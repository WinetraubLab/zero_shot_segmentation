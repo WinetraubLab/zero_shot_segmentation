{
  "nbformat": 4,
  "nbformat_minor": 0,
  "metadata": {
    "colab": {
      "provenance": [],
      "gpuType": "T4"
    },
    "kernelspec": {
      "name": "python3",
      "display_name": "Python 3"
    },
    "language_info": {
      "name": "python"
    },
    "accelerator": "GPU"
  },
  "cells": [
    {
      "cell_type": "markdown",
      "source": [
        "# Overview\n",
        "Use this notebook to convert an OCT image to virtual histology.\n",
        "\n",
        "To get started,\n",
        "[open this notebook in colab](https://colab.research.google.com/github/WinetraubLab/zero_shot_segmentation/blob/main/measure_point_based_segmentation.ipynb) and run.\n"
      ],
      "metadata": {
        "id": "NQOdtmQ3laV6"
      }
    },
    {
      "cell_type": "markdown",
      "source": [
        "## Set Up Environment"
      ],
      "metadata": {
        "id": "UNHZ8Sbinu1y"
      }
    },
    {
      "cell_type": "code",
      "source": [
        "from google.colab import drive\n",
        "drive.mount('/content/drive/')\n",
        "image_directory = '/content/drive/Shareddrives/Yolab - Current Projects/_Datasets/2020-11-10 10x OCT2Hist Model (Paper V2)/Results/TestSet/'"
      ],
      "metadata": {
        "id": "NtdbasoWVAwV",
        "outputId": "e29277f4-0483-467f-c4ab-44d6a4c2ad4d",
        "colab": {
          "base_uri": "https://localhost:8080/"
        }
      },
      "execution_count": 1,
      "outputs": [
        {
          "output_type": "stream",
          "name": "stdout",
          "text": [
            "Mounted at /content/drive/\n"
          ]
        }
      ]
    },
    {
      "cell_type": "code",
      "source": [
        "#segment anything (sam)\n",
        "using_colab = True\n",
        "visualize_sam_outputs = True\n",
        "\n",
        "#sam algorithm input parameters\n",
        "points_per_side=32\n",
        "pred_iou_thresh=0.90\n",
        "stability_score_thresh=0.95\n",
        "crop_n_layers=1\n",
        "crop_n_points_downscale_factor=2\n",
        "min_mask_region_area=3000\n",
        "\n",
        "#sam model type and weights checkpoint\n",
        "sam_checkpoint = \"sam_vit_h_4b8939.pth\"\n",
        "model_type = \"vit_h\""
      ],
      "metadata": {
        "id": "TLagUwFmXuN_"
      },
      "execution_count": 2,
      "outputs": []
    },
    {
      "cell_type": "code",
      "source": [
        "rf_api_key= \"R04BinsZcBZ6PsfKR2fP\"\n",
        "rf_workspace= \"yolab-kmmfx\"\n",
        "rf_project = \"11-16-2023-zero-shot-oct\"\n",
        "rf_dataset = \"coco-segmentation\" #\"png-mask-semantic\"\n",
        "rf_version = 3"
      ],
      "metadata": {
        "id": "HM7DPq3KXszb"
      },
      "execution_count": 5,
      "outputs": []
    },
    {
      "cell_type": "code",
      "source": [
        "import torch\n",
        "import torchvision\n",
        "!git clone --recurse-submodules https://github.com/WinetraubLab/zero_shot_segmentation.git\n",
        "%run /content/zero_shot_segmentation/setup_roboflow_and_sam.ipynb\n",
        "\n",
        "\n",
        "DEVICE = torch.device('cuda')\n",
        "MODEL_TYPE = \"vit_h\"\n",
        "CHECKPOINT_PATH = \"/content/sam_vit_h_4b8939.pth\"\n",
        "sam = sam_model_registry[MODEL_TYPE](checkpoint=CHECKPOINT_PATH).to(device=DEVICE)\n",
        "predictor = SamPredictor(sam)"
      ],
      "metadata": {
        "colab": {
          "base_uri": "https://localhost:8080/"
        },
        "id": "Z8VFd8xvedrb",
        "outputId": "7aa0d71d-1a59-47b0-c59f-8b4fad72c783"
      },
      "execution_count": 6,
      "outputs": [
        {
          "output_type": "stream",
          "name": "stdout",
          "text": [
            "fatal: destination path 'zero_shot_segmentation' already exists and is not an empty directory.\n",
            "Requirement already satisfied: roboflow in /usr/local/lib/python3.10/dist-packages (1.1.9)\n",
            "Requirement already satisfied: certifi==2023.7.22 in /usr/local/lib/python3.10/dist-packages (from roboflow) (2023.7.22)\n",
            "Requirement already satisfied: chardet==4.0.0 in /usr/local/lib/python3.10/dist-packages (from roboflow) (4.0.0)\n",
            "Requirement already satisfied: cycler==0.10.0 in /usr/local/lib/python3.10/dist-packages (from roboflow) (0.10.0)\n",
            "Requirement already satisfied: idna==2.10 in /usr/local/lib/python3.10/dist-packages (from roboflow) (2.10)\n",
            "Requirement already satisfied: kiwisolver>=1.3.1 in /usr/local/lib/python3.10/dist-packages (from roboflow) (1.4.5)\n",
            "Requirement already satisfied: matplotlib in /usr/local/lib/python3.10/dist-packages (from roboflow) (3.7.1)\n",
            "Requirement already satisfied: numpy>=1.18.5 in /usr/local/lib/python3.10/dist-packages (from roboflow) (1.23.5)\n",
            "Requirement already satisfied: opencv-python-headless==4.8.0.74 in /usr/local/lib/python3.10/dist-packages (from roboflow) (4.8.0.74)\n",
            "Requirement already satisfied: Pillow>=7.1.2 in /usr/local/lib/python3.10/dist-packages (from roboflow) (9.4.0)\n",
            "Requirement already satisfied: pyparsing==2.4.7 in /usr/local/lib/python3.10/dist-packages (from roboflow) (2.4.7)\n",
            "Requirement already satisfied: python-dateutil in /usr/local/lib/python3.10/dist-packages (from roboflow) (2.8.2)\n",
            "Requirement already satisfied: python-dotenv in /usr/local/lib/python3.10/dist-packages (from roboflow) (1.0.0)\n",
            "Requirement already satisfied: requests in /usr/local/lib/python3.10/dist-packages (from roboflow) (2.31.0)\n",
            "Requirement already satisfied: six in /usr/local/lib/python3.10/dist-packages (from roboflow) (1.16.0)\n",
            "Requirement already satisfied: supervision in /usr/local/lib/python3.10/dist-packages (from roboflow) (0.16.0)\n",
            "Requirement already satisfied: urllib3>=1.26.6 in /usr/local/lib/python3.10/dist-packages (from roboflow) (2.0.7)\n",
            "Requirement already satisfied: tqdm>=4.41.0 in /usr/local/lib/python3.10/dist-packages (from roboflow) (4.66.1)\n",
            "Requirement already satisfied: PyYAML>=5.3.1 in /usr/local/lib/python3.10/dist-packages (from roboflow) (6.0.1)\n",
            "Requirement already satisfied: requests-toolbelt in /usr/local/lib/python3.10/dist-packages (from roboflow) (1.0.0)\n",
            "Requirement already satisfied: python-magic in /usr/local/lib/python3.10/dist-packages (from roboflow) (0.4.27)\n",
            "Requirement already satisfied: contourpy>=1.0.1 in /usr/local/lib/python3.10/dist-packages (from matplotlib->roboflow) (1.2.0)\n",
            "Requirement already satisfied: fonttools>=4.22.0 in /usr/local/lib/python3.10/dist-packages (from matplotlib->roboflow) (4.44.3)\n",
            "Requirement already satisfied: packaging>=20.0 in /usr/local/lib/python3.10/dist-packages (from matplotlib->roboflow) (23.2)\n",
            "Requirement already satisfied: charset-normalizer<4,>=2 in /usr/local/lib/python3.10/dist-packages (from requests->roboflow) (3.3.2)\n",
            "Requirement already satisfied: scipy<2.0.0,>=1.9.0 in /usr/local/lib/python3.10/dist-packages (from supervision->roboflow) (1.11.3)\n",
            "loading Roboflow workspace...\n",
            "loading Roboflow project...\n"
          ]
        },
        {
          "output_type": "stream",
          "name": "stderr",
          "text": [
            "Downloading Dataset Version Zip in 11/16/2023-Zero-shot-OCT-3 to coco-segmentation:: 100%|██████████| 681/681 [00:00<00:00, 30165.29it/s]"
          ]
        },
        {
          "output_type": "stream",
          "name": "stdout",
          "text": [
            "\n"
          ]
        },
        {
          "output_type": "stream",
          "name": "stderr",
          "text": [
            "\n",
            "Extracting Dataset Version Zip to 11/16/2023-Zero-shot-OCT-3 in coco-segmentation:: 100%|██████████| 17/17 [00:00<00:00, 2646.15it/s]\n"
          ]
        },
        {
          "output_type": "stream",
          "name": "stdout",
          "text": [
            "/content/11/16/2023-Zero-shot-OCT-3/test\n",
            "/content/11/16/2023-Zero-shot-OCT-3/test/_annotations.coco.json\n",
            "PyTorch version: 2.1.0+cu118\n",
            "Torchvision version: 0.16.0+cu118\n",
            "CUDA is available: True\n",
            "Requirement already satisfied: opencv-python in /usr/local/lib/python3.10/dist-packages (4.8.0.76)\n",
            "Requirement already satisfied: matplotlib in /usr/local/lib/python3.10/dist-packages (3.7.1)\n",
            "Requirement already satisfied: numpy>=1.21.2 in /usr/local/lib/python3.10/dist-packages (from opencv-python) (1.23.5)\n",
            "Requirement already satisfied: contourpy>=1.0.1 in /usr/local/lib/python3.10/dist-packages (from matplotlib) (1.2.0)\n",
            "Requirement already satisfied: cycler>=0.10 in /usr/local/lib/python3.10/dist-packages (from matplotlib) (0.10.0)\n",
            "Requirement already satisfied: fonttools>=4.22.0 in /usr/local/lib/python3.10/dist-packages (from matplotlib) (4.44.3)\n",
            "Requirement already satisfied: kiwisolver>=1.0.1 in /usr/local/lib/python3.10/dist-packages (from matplotlib) (1.4.5)\n",
            "Requirement already satisfied: packaging>=20.0 in /usr/local/lib/python3.10/dist-packages (from matplotlib) (23.2)\n",
            "Requirement already satisfied: pillow>=6.2.0 in /usr/local/lib/python3.10/dist-packages (from matplotlib) (9.4.0)\n",
            "Requirement already satisfied: pyparsing>=2.3.1 in /usr/local/lib/python3.10/dist-packages (from matplotlib) (2.4.7)\n",
            "Requirement already satisfied: python-dateutil>=2.7 in /usr/local/lib/python3.10/dist-packages (from matplotlib) (2.8.2)\n",
            "Requirement already satisfied: six in /usr/local/lib/python3.10/dist-packages (from cycler>=0.10->matplotlib) (1.16.0)\n",
            "Collecting git+https://github.com/facebookresearch/segment-anything.git\n",
            "  Cloning https://github.com/facebookresearch/segment-anything.git to /tmp/pip-req-build-r9jccxgr\n",
            "  Running command git clone --filter=blob:none --quiet https://github.com/facebookresearch/segment-anything.git /tmp/pip-req-build-r9jccxgr\n",
            "  Resolved https://github.com/facebookresearch/segment-anything.git to commit 6fdee8f2727f4506cfbbe553e23b895e27956588\n",
            "  Preparing metadata (setup.py) ... \u001b[?25l\u001b[?25hdone\n",
            "Building wheels for collected packages: segment-anything\n",
            "  Building wheel for segment-anything (setup.py) ... \u001b[?25l\u001b[?25hdone\n",
            "  Created wheel for segment-anything: filename=segment_anything-1.0-py3-none-any.whl size=36588 sha256=1ffe93e1773baf0620f319cce9e5a2ae663d820be0a80c5b4e52828119d17d6a\n",
            "  Stored in directory: /tmp/pip-ephem-wheel-cache-p36jrlfn/wheels/10/cf/59/9ccb2f0a1bcc81d4fbd0e501680b5d088d690c6cfbc02dc99d\n",
            "Successfully built segment-anything\n",
            "Installing collected packages: segment-anything\n",
            "Successfully installed segment-anything-1.0\n",
            "--2023-11-24 19:07:03--  https://pbs.twimg.com/media/FvpQj7UWYAAgxfo?format=jpg\n",
            "Resolving pbs.twimg.com (pbs.twimg.com)... 151.101.20.159, 2a04:4e42:5::159\n",
            "Connecting to pbs.twimg.com (pbs.twimg.com)|151.101.20.159|:443... connected.\n",
            "HTTP request sent, awaiting response... 200 OK\n",
            "Length: 254202 (248K) [image/jpeg]\n",
            "Saving to: ‘images/FvpQj7UWYAAgxfo?format=jpg’\n",
            "\n",
            "FvpQj7UWYAAgxfo?for 100%[===================>] 248.24K  --.-KB/s    in 0.02s   \n",
            "\n",
            "2023-11-24 19:07:03 (12.3 MB/s) - ‘images/FvpQj7UWYAAgxfo?format=jpg’ saved [254202/254202]\n",
            "\n",
            "--2023-11-24 19:07:03--  https://dl.fbaipublicfiles.com/segment_anything/sam_vit_h_4b8939.pth\n",
            "Resolving dl.fbaipublicfiles.com (dl.fbaipublicfiles.com)... 3.163.189.96, 3.163.189.14, 3.163.189.108, ...\n",
            "Connecting to dl.fbaipublicfiles.com (dl.fbaipublicfiles.com)|3.163.189.96|:443... connected.\n",
            "HTTP request sent, awaiting response... 200 OK\n",
            "Length: 2564550879 (2.4G) [binary/octet-stream]\n",
            "Saving to: ‘sam_vit_h_4b8939.pth’\n",
            "\n",
            "sam_vit_h_4b8939.pt 100%[===================>]   2.39G   213MB/s    in 10s     \n",
            "\n",
            "2023-11-24 19:07:14 (237 MB/s) - ‘sam_vit_h_4b8939.pth’ saved [2564550879/2564550879]\n",
            "\n"
          ]
        }
      ]
    },
    {
      "cell_type": "code",
      "source": [
        "#roboflow semantic classes\n",
        "EPIDERMIS = True #mask values for epidermis mask\n",
        "\n",
        "import numpy as np\n",
        "from PIL import Image, ImageDraw"
      ],
      "metadata": {
        "id": "ZF5reKUYdMow"
      },
      "execution_count": 7,
      "outputs": []
    },
    {
      "cell_type": "code",
      "source": [
        "def coco_mask_to_numpy(image_shape, coco_mask):\n",
        "    \"\"\"\n",
        "    Convert COCO format segmentation mask to a NumPy array.\n",
        "\n",
        "    Parameters:\n",
        "    - image_shape: Tuple (m, n) representing the shape of the image.\n",
        "    - coco_mask: List of coordinates [x1, y1, x2, y2, ..., xn, yn] in COCO format.\n",
        "\n",
        "    Returns:\n",
        "    - numpy_mask: NumPy array of shape (m, n) with True within the mask boundaries and False elsewhere.\n",
        "    \"\"\"\n",
        "    # Create an image and draw the polygon defined by the COCO mask\n",
        "    mask_image = Image.new(\"1\", image_shape[::-1], 0)\n",
        "    draw = ImageDraw.Draw(mask_image)\n",
        "    draw.polygon(coco_mask, outline=1, fill=1)\n",
        "    del draw\n",
        "\n",
        "    # Convert the mask image to a NumPy array\n",
        "    numpy_mask = np.array(mask_image, dtype=bool)\n",
        "\n",
        "    return numpy_mask"
      ],
      "metadata": {
        "id": "jLqDaB9udQ3o"
      },
      "execution_count": 8,
      "outputs": []
    },
    {
      "cell_type": "code",
      "source": [
        "def download_images_and_masks(api_key, workspace, project_name, dataset_name, version):\n",
        "    from roboflow import Roboflow\n",
        "    rf = Roboflow(api_key=api_key)\n",
        "    project = rf.workspace(workspace).project(project_name)\n",
        "    dataset = project.version(version).download(rf_dataset, overwrite = False)\n",
        "    return dataset"
      ],
      "metadata": {
        "id": "0jBCUUOidTOd"
      },
      "execution_count": 9,
      "outputs": []
    },
    {
      "cell_type": "code",
      "source": [
        "def calculate_iou(mask_true, mask_pred, class_id):\n",
        "    #intersection = np.logical_and(mask_true == class_id, mask_pred == class_id)\n",
        "    intersection = np.logical_and(mask_true, mask_pred == class_id)\n",
        "    union = np.logical_or(mask_true, mask_pred == class_id)\n",
        "\n",
        "    class_iou = np.sum(intersection) / np.sum(union)\n",
        "    return class_iou"
      ],
      "metadata": {
        "id": "Ors-6o-idUVB"
      },
      "execution_count": 10,
      "outputs": []
    },
    {
      "cell_type": "code",
      "source": [
        "%pip install pylabel"
      ],
      "metadata": {
        "id": "5mgZjxPhrdC_",
        "outputId": "28f83ec8-2081-4732-fa98-ee09f9796d2f",
        "colab": {
          "base_uri": "https://localhost:8080/"
        }
      },
      "execution_count": 11,
      "outputs": [
        {
          "output_type": "stream",
          "name": "stdout",
          "text": [
            "Collecting pylabel\n",
            "  Downloading pylabel-0.1.54-py3-none-any.whl (27 kB)\n",
            "Requirement already satisfied: pandas in /usr/local/lib/python3.10/dist-packages (from pylabel) (1.5.3)\n",
            "Collecting bbox-visualizer (from pylabel)\n",
            "  Downloading bbox_visualizer-0.1.0-py2.py3-none-any.whl (6.2 kB)\n",
            "Requirement already satisfied: matplotlib in /usr/local/lib/python3.10/dist-packages (from pylabel) (3.7.1)\n",
            "Requirement already satisfied: opencv-python in /usr/local/lib/python3.10/dist-packages (from pylabel) (4.8.0.76)\n",
            "Requirement already satisfied: scikit-learn in /usr/local/lib/python3.10/dist-packages (from pylabel) (1.2.2)\n",
            "Collecting jupyter-bbox-widget (from pylabel)\n",
            "  Downloading jupyter_bbox_widget-0.5.0-py2.py3-none-any.whl (367 kB)\n",
            "\u001b[2K     \u001b[90m━━━━━━━━━━━━━━━━━━━━━━━━━━━━━━━━━━━━━━━━\u001b[0m \u001b[32m367.8/367.8 kB\u001b[0m \u001b[31m6.9 MB/s\u001b[0m eta \u001b[36m0:00:00\u001b[0m\n",
            "\u001b[?25hRequirement already satisfied: pyyaml in /usr/local/lib/python3.10/dist-packages (from pylabel) (6.0.1)\n",
            "Requirement already satisfied: tqdm in /usr/local/lib/python3.10/dist-packages (from pylabel) (4.66.1)\n",
            "Requirement already satisfied: ipywidgets>=7.0.0 in /usr/local/lib/python3.10/dist-packages (from jupyter-bbox-widget->pylabel) (7.7.1)\n",
            "Requirement already satisfied: contourpy>=1.0.1 in /usr/local/lib/python3.10/dist-packages (from matplotlib->pylabel) (1.2.0)\n",
            "Requirement already satisfied: cycler>=0.10 in /usr/local/lib/python3.10/dist-packages (from matplotlib->pylabel) (0.10.0)\n",
            "Requirement already satisfied: fonttools>=4.22.0 in /usr/local/lib/python3.10/dist-packages (from matplotlib->pylabel) (4.44.3)\n",
            "Requirement already satisfied: kiwisolver>=1.0.1 in /usr/local/lib/python3.10/dist-packages (from matplotlib->pylabel) (1.4.5)\n",
            "Requirement already satisfied: numpy>=1.20 in /usr/local/lib/python3.10/dist-packages (from matplotlib->pylabel) (1.23.5)\n",
            "Requirement already satisfied: packaging>=20.0 in /usr/local/lib/python3.10/dist-packages (from matplotlib->pylabel) (23.2)\n",
            "Requirement already satisfied: pillow>=6.2.0 in /usr/local/lib/python3.10/dist-packages (from matplotlib->pylabel) (9.4.0)\n",
            "Requirement already satisfied: pyparsing>=2.3.1 in /usr/local/lib/python3.10/dist-packages (from matplotlib->pylabel) (2.4.7)\n",
            "Requirement already satisfied: python-dateutil>=2.7 in /usr/local/lib/python3.10/dist-packages (from matplotlib->pylabel) (2.8.2)\n",
            "Requirement already satisfied: pytz>=2020.1 in /usr/local/lib/python3.10/dist-packages (from pandas->pylabel) (2023.3.post1)\n",
            "Requirement already satisfied: scipy>=1.3.2 in /usr/local/lib/python3.10/dist-packages (from scikit-learn->pylabel) (1.11.3)\n",
            "Requirement already satisfied: joblib>=1.1.1 in /usr/local/lib/python3.10/dist-packages (from scikit-learn->pylabel) (1.3.2)\n",
            "Requirement already satisfied: threadpoolctl>=2.0.0 in /usr/local/lib/python3.10/dist-packages (from scikit-learn->pylabel) (3.2.0)\n",
            "Requirement already satisfied: six in /usr/local/lib/python3.10/dist-packages (from cycler>=0.10->matplotlib->pylabel) (1.16.0)\n",
            "Requirement already satisfied: ipykernel>=4.5.1 in /usr/local/lib/python3.10/dist-packages (from ipywidgets>=7.0.0->jupyter-bbox-widget->pylabel) (5.5.6)\n",
            "Requirement already satisfied: ipython-genutils~=0.2.0 in /usr/local/lib/python3.10/dist-packages (from ipywidgets>=7.0.0->jupyter-bbox-widget->pylabel) (0.2.0)\n",
            "Requirement already satisfied: traitlets>=4.3.1 in /usr/local/lib/python3.10/dist-packages (from ipywidgets>=7.0.0->jupyter-bbox-widget->pylabel) (5.7.1)\n",
            "Requirement already satisfied: widgetsnbextension~=3.6.0 in /usr/local/lib/python3.10/dist-packages (from ipywidgets>=7.0.0->jupyter-bbox-widget->pylabel) (3.6.6)\n",
            "Requirement already satisfied: ipython>=4.0.0 in /usr/local/lib/python3.10/dist-packages (from ipywidgets>=7.0.0->jupyter-bbox-widget->pylabel) (7.34.0)\n",
            "Requirement already satisfied: jupyterlab-widgets>=1.0.0 in /usr/local/lib/python3.10/dist-packages (from ipywidgets>=7.0.0->jupyter-bbox-widget->pylabel) (3.0.9)\n",
            "Requirement already satisfied: jupyter-client in /usr/local/lib/python3.10/dist-packages (from ipykernel>=4.5.1->ipywidgets>=7.0.0->jupyter-bbox-widget->pylabel) (6.1.12)\n",
            "Requirement already satisfied: tornado>=4.2 in /usr/local/lib/python3.10/dist-packages (from ipykernel>=4.5.1->ipywidgets>=7.0.0->jupyter-bbox-widget->pylabel) (6.3.2)\n",
            "Requirement already satisfied: setuptools>=18.5 in /usr/local/lib/python3.10/dist-packages (from ipython>=4.0.0->ipywidgets>=7.0.0->jupyter-bbox-widget->pylabel) (67.7.2)\n",
            "Collecting jedi>=0.16 (from ipython>=4.0.0->ipywidgets>=7.0.0->jupyter-bbox-widget->pylabel)\n",
            "  Downloading jedi-0.19.1-py2.py3-none-any.whl (1.6 MB)\n",
            "\u001b[2K     \u001b[90m━━━━━━━━━━━━━━━━━━━━━━━━━━━━━━━━━━━━━━━━\u001b[0m \u001b[32m1.6/1.6 MB\u001b[0m \u001b[31m13.6 MB/s\u001b[0m eta \u001b[36m0:00:00\u001b[0m\n",
            "\u001b[?25hRequirement already satisfied: decorator in /usr/local/lib/python3.10/dist-packages (from ipython>=4.0.0->ipywidgets>=7.0.0->jupyter-bbox-widget->pylabel) (4.4.2)\n",
            "Requirement already satisfied: pickleshare in /usr/local/lib/python3.10/dist-packages (from ipython>=4.0.0->ipywidgets>=7.0.0->jupyter-bbox-widget->pylabel) (0.7.5)\n",
            "Requirement already satisfied: prompt-toolkit!=3.0.0,!=3.0.1,<3.1.0,>=2.0.0 in /usr/local/lib/python3.10/dist-packages (from ipython>=4.0.0->ipywidgets>=7.0.0->jupyter-bbox-widget->pylabel) (3.0.41)\n",
            "Requirement already satisfied: pygments in /usr/local/lib/python3.10/dist-packages (from ipython>=4.0.0->ipywidgets>=7.0.0->jupyter-bbox-widget->pylabel) (2.16.1)\n",
            "Requirement already satisfied: backcall in /usr/local/lib/python3.10/dist-packages (from ipython>=4.0.0->ipywidgets>=7.0.0->jupyter-bbox-widget->pylabel) (0.2.0)\n",
            "Requirement already satisfied: matplotlib-inline in /usr/local/lib/python3.10/dist-packages (from ipython>=4.0.0->ipywidgets>=7.0.0->jupyter-bbox-widget->pylabel) (0.1.6)\n",
            "Requirement already satisfied: pexpect>4.3 in /usr/local/lib/python3.10/dist-packages (from ipython>=4.0.0->ipywidgets>=7.0.0->jupyter-bbox-widget->pylabel) (4.8.0)\n",
            "Requirement already satisfied: notebook>=4.4.1 in /usr/local/lib/python3.10/dist-packages (from widgetsnbextension~=3.6.0->ipywidgets>=7.0.0->jupyter-bbox-widget->pylabel) (6.5.5)\n",
            "Requirement already satisfied: parso<0.9.0,>=0.8.3 in /usr/local/lib/python3.10/dist-packages (from jedi>=0.16->ipython>=4.0.0->ipywidgets>=7.0.0->jupyter-bbox-widget->pylabel) (0.8.3)\n",
            "Requirement already satisfied: jinja2 in /usr/local/lib/python3.10/dist-packages (from notebook>=4.4.1->widgetsnbextension~=3.6.0->ipywidgets>=7.0.0->jupyter-bbox-widget->pylabel) (3.1.2)\n",
            "Requirement already satisfied: pyzmq<25,>=17 in /usr/local/lib/python3.10/dist-packages (from notebook>=4.4.1->widgetsnbextension~=3.6.0->ipywidgets>=7.0.0->jupyter-bbox-widget->pylabel) (23.2.1)\n",
            "Requirement already satisfied: argon2-cffi in /usr/local/lib/python3.10/dist-packages (from notebook>=4.4.1->widgetsnbextension~=3.6.0->ipywidgets>=7.0.0->jupyter-bbox-widget->pylabel) (23.1.0)\n",
            "Requirement already satisfied: jupyter-core>=4.6.1 in /usr/local/lib/python3.10/dist-packages (from notebook>=4.4.1->widgetsnbextension~=3.6.0->ipywidgets>=7.0.0->jupyter-bbox-widget->pylabel) (5.5.0)\n",
            "Requirement already satisfied: nbformat in /usr/local/lib/python3.10/dist-packages (from notebook>=4.4.1->widgetsnbextension~=3.6.0->ipywidgets>=7.0.0->jupyter-bbox-widget->pylabel) (5.9.2)\n",
            "Requirement already satisfied: nbconvert>=5 in /usr/local/lib/python3.10/dist-packages (from notebook>=4.4.1->widgetsnbextension~=3.6.0->ipywidgets>=7.0.0->jupyter-bbox-widget->pylabel) (6.5.4)\n",
            "Requirement already satisfied: nest-asyncio>=1.5 in /usr/local/lib/python3.10/dist-packages (from notebook>=4.4.1->widgetsnbextension~=3.6.0->ipywidgets>=7.0.0->jupyter-bbox-widget->pylabel) (1.5.8)\n",
            "Requirement already satisfied: Send2Trash>=1.8.0 in /usr/local/lib/python3.10/dist-packages (from notebook>=4.4.1->widgetsnbextension~=3.6.0->ipywidgets>=7.0.0->jupyter-bbox-widget->pylabel) (1.8.2)\n",
            "Requirement already satisfied: terminado>=0.8.3 in /usr/local/lib/python3.10/dist-packages (from notebook>=4.4.1->widgetsnbextension~=3.6.0->ipywidgets>=7.0.0->jupyter-bbox-widget->pylabel) (0.18.0)\n",
            "Requirement already satisfied: prometheus-client in /usr/local/lib/python3.10/dist-packages (from notebook>=4.4.1->widgetsnbextension~=3.6.0->ipywidgets>=7.0.0->jupyter-bbox-widget->pylabel) (0.18.0)\n",
            "Requirement already satisfied: nbclassic>=0.4.7 in /usr/local/lib/python3.10/dist-packages (from notebook>=4.4.1->widgetsnbextension~=3.6.0->ipywidgets>=7.0.0->jupyter-bbox-widget->pylabel) (1.0.0)\n",
            "Requirement already satisfied: ptyprocess>=0.5 in /usr/local/lib/python3.10/dist-packages (from pexpect>4.3->ipython>=4.0.0->ipywidgets>=7.0.0->jupyter-bbox-widget->pylabel) (0.7.0)\n",
            "Requirement already satisfied: wcwidth in /usr/local/lib/python3.10/dist-packages (from prompt-toolkit!=3.0.0,!=3.0.1,<3.1.0,>=2.0.0->ipython>=4.0.0->ipywidgets>=7.0.0->jupyter-bbox-widget->pylabel) (0.2.10)\n",
            "Requirement already satisfied: platformdirs>=2.5 in /usr/local/lib/python3.10/dist-packages (from jupyter-core>=4.6.1->notebook>=4.4.1->widgetsnbextension~=3.6.0->ipywidgets>=7.0.0->jupyter-bbox-widget->pylabel) (4.0.0)\n",
            "Requirement already satisfied: jupyter-server>=1.8 in /usr/local/lib/python3.10/dist-packages (from nbclassic>=0.4.7->notebook>=4.4.1->widgetsnbextension~=3.6.0->ipywidgets>=7.0.0->jupyter-bbox-widget->pylabel) (1.24.0)\n",
            "Requirement already satisfied: notebook-shim>=0.2.3 in /usr/local/lib/python3.10/dist-packages (from nbclassic>=0.4.7->notebook>=4.4.1->widgetsnbextension~=3.6.0->ipywidgets>=7.0.0->jupyter-bbox-widget->pylabel) (0.2.3)\n",
            "Requirement already satisfied: lxml in /usr/local/lib/python3.10/dist-packages (from nbconvert>=5->notebook>=4.4.1->widgetsnbextension~=3.6.0->ipywidgets>=7.0.0->jupyter-bbox-widget->pylabel) (4.9.3)\n",
            "Requirement already satisfied: beautifulsoup4 in /usr/local/lib/python3.10/dist-packages (from nbconvert>=5->notebook>=4.4.1->widgetsnbextension~=3.6.0->ipywidgets>=7.0.0->jupyter-bbox-widget->pylabel) (4.11.2)\n",
            "Requirement already satisfied: bleach in /usr/local/lib/python3.10/dist-packages (from nbconvert>=5->notebook>=4.4.1->widgetsnbextension~=3.6.0->ipywidgets>=7.0.0->jupyter-bbox-widget->pylabel) (6.1.0)\n",
            "Requirement already satisfied: defusedxml in /usr/local/lib/python3.10/dist-packages (from nbconvert>=5->notebook>=4.4.1->widgetsnbextension~=3.6.0->ipywidgets>=7.0.0->jupyter-bbox-widget->pylabel) (0.7.1)\n",
            "Requirement already satisfied: entrypoints>=0.2.2 in /usr/local/lib/python3.10/dist-packages (from nbconvert>=5->notebook>=4.4.1->widgetsnbextension~=3.6.0->ipywidgets>=7.0.0->jupyter-bbox-widget->pylabel) (0.4)\n",
            "Requirement already satisfied: jupyterlab-pygments in /usr/local/lib/python3.10/dist-packages (from nbconvert>=5->notebook>=4.4.1->widgetsnbextension~=3.6.0->ipywidgets>=7.0.0->jupyter-bbox-widget->pylabel) (0.2.2)\n",
            "Requirement already satisfied: MarkupSafe>=2.0 in /usr/local/lib/python3.10/dist-packages (from nbconvert>=5->notebook>=4.4.1->widgetsnbextension~=3.6.0->ipywidgets>=7.0.0->jupyter-bbox-widget->pylabel) (2.1.3)\n",
            "Requirement already satisfied: mistune<2,>=0.8.1 in /usr/local/lib/python3.10/dist-packages (from nbconvert>=5->notebook>=4.4.1->widgetsnbextension~=3.6.0->ipywidgets>=7.0.0->jupyter-bbox-widget->pylabel) (0.8.4)\n",
            "Requirement already satisfied: nbclient>=0.5.0 in /usr/local/lib/python3.10/dist-packages (from nbconvert>=5->notebook>=4.4.1->widgetsnbextension~=3.6.0->ipywidgets>=7.0.0->jupyter-bbox-widget->pylabel) (0.9.0)\n",
            "Requirement already satisfied: pandocfilters>=1.4.1 in /usr/local/lib/python3.10/dist-packages (from nbconvert>=5->notebook>=4.4.1->widgetsnbextension~=3.6.0->ipywidgets>=7.0.0->jupyter-bbox-widget->pylabel) (1.5.0)\n",
            "Requirement already satisfied: tinycss2 in /usr/local/lib/python3.10/dist-packages (from nbconvert>=5->notebook>=4.4.1->widgetsnbextension~=3.6.0->ipywidgets>=7.0.0->jupyter-bbox-widget->pylabel) (1.2.1)\n",
            "Requirement already satisfied: fastjsonschema in /usr/local/lib/python3.10/dist-packages (from nbformat->notebook>=4.4.1->widgetsnbextension~=3.6.0->ipywidgets>=7.0.0->jupyter-bbox-widget->pylabel) (2.19.0)\n",
            "Requirement already satisfied: jsonschema>=2.6 in /usr/local/lib/python3.10/dist-packages (from nbformat->notebook>=4.4.1->widgetsnbextension~=3.6.0->ipywidgets>=7.0.0->jupyter-bbox-widget->pylabel) (4.19.2)\n",
            "Requirement already satisfied: argon2-cffi-bindings in /usr/local/lib/python3.10/dist-packages (from argon2-cffi->notebook>=4.4.1->widgetsnbextension~=3.6.0->ipywidgets>=7.0.0->jupyter-bbox-widget->pylabel) (21.2.0)\n",
            "Requirement already satisfied: attrs>=22.2.0 in /usr/local/lib/python3.10/dist-packages (from jsonschema>=2.6->nbformat->notebook>=4.4.1->widgetsnbextension~=3.6.0->ipywidgets>=7.0.0->jupyter-bbox-widget->pylabel) (23.1.0)\n",
            "Requirement already satisfied: jsonschema-specifications>=2023.03.6 in /usr/local/lib/python3.10/dist-packages (from jsonschema>=2.6->nbformat->notebook>=4.4.1->widgetsnbextension~=3.6.0->ipywidgets>=7.0.0->jupyter-bbox-widget->pylabel) (2023.11.1)\n",
            "Requirement already satisfied: referencing>=0.28.4 in /usr/local/lib/python3.10/dist-packages (from jsonschema>=2.6->nbformat->notebook>=4.4.1->widgetsnbextension~=3.6.0->ipywidgets>=7.0.0->jupyter-bbox-widget->pylabel) (0.31.0)\n",
            "Requirement already satisfied: rpds-py>=0.7.1 in /usr/local/lib/python3.10/dist-packages (from jsonschema>=2.6->nbformat->notebook>=4.4.1->widgetsnbextension~=3.6.0->ipywidgets>=7.0.0->jupyter-bbox-widget->pylabel) (0.13.0)\n",
            "Requirement already satisfied: anyio<4,>=3.1.0 in /usr/local/lib/python3.10/dist-packages (from jupyter-server>=1.8->nbclassic>=0.4.7->notebook>=4.4.1->widgetsnbextension~=3.6.0->ipywidgets>=7.0.0->jupyter-bbox-widget->pylabel) (3.7.1)\n",
            "Requirement already satisfied: websocket-client in /usr/local/lib/python3.10/dist-packages (from jupyter-server>=1.8->nbclassic>=0.4.7->notebook>=4.4.1->widgetsnbextension~=3.6.0->ipywidgets>=7.0.0->jupyter-bbox-widget->pylabel) (1.6.4)\n",
            "Requirement already satisfied: cffi>=1.0.1 in /usr/local/lib/python3.10/dist-packages (from argon2-cffi-bindings->argon2-cffi->notebook>=4.4.1->widgetsnbextension~=3.6.0->ipywidgets>=7.0.0->jupyter-bbox-widget->pylabel) (1.16.0)\n",
            "Requirement already satisfied: soupsieve>1.2 in /usr/local/lib/python3.10/dist-packages (from beautifulsoup4->nbconvert>=5->notebook>=4.4.1->widgetsnbextension~=3.6.0->ipywidgets>=7.0.0->jupyter-bbox-widget->pylabel) (2.5)\n",
            "Requirement already satisfied: webencodings in /usr/local/lib/python3.10/dist-packages (from bleach->nbconvert>=5->notebook>=4.4.1->widgetsnbextension~=3.6.0->ipywidgets>=7.0.0->jupyter-bbox-widget->pylabel) (0.5.1)\n",
            "Requirement already satisfied: idna>=2.8 in /usr/local/lib/python3.10/dist-packages (from anyio<4,>=3.1.0->jupyter-server>=1.8->nbclassic>=0.4.7->notebook>=4.4.1->widgetsnbextension~=3.6.0->ipywidgets>=7.0.0->jupyter-bbox-widget->pylabel) (2.10)\n",
            "Requirement already satisfied: sniffio>=1.1 in /usr/local/lib/python3.10/dist-packages (from anyio<4,>=3.1.0->jupyter-server>=1.8->nbclassic>=0.4.7->notebook>=4.4.1->widgetsnbextension~=3.6.0->ipywidgets>=7.0.0->jupyter-bbox-widget->pylabel) (1.3.0)\n",
            "Requirement already satisfied: exceptiongroup in /usr/local/lib/python3.10/dist-packages (from anyio<4,>=3.1.0->jupyter-server>=1.8->nbclassic>=0.4.7->notebook>=4.4.1->widgetsnbextension~=3.6.0->ipywidgets>=7.0.0->jupyter-bbox-widget->pylabel) (1.1.3)\n",
            "Requirement already satisfied: pycparser in /usr/local/lib/python3.10/dist-packages (from cffi>=1.0.1->argon2-cffi-bindings->argon2-cffi->notebook>=4.4.1->widgetsnbextension~=3.6.0->ipywidgets>=7.0.0->jupyter-bbox-widget->pylabel) (2.21)\n",
            "Installing collected packages: jedi, bbox-visualizer, jupyter-bbox-widget, pylabel\n",
            "Successfully installed bbox-visualizer-0.1.0 jedi-0.19.1 jupyter-bbox-widget-0.5.0 pylabel-0.1.54\n"
          ]
        }
      ]
    },
    {
      "cell_type": "code",
      "source": [
        "# Download images and masks\n",
        "dataset = download_images_and_masks(rf_api_key, rf_workspace, rf_project, rf_dataset, rf_version)\n",
        "# prepare model\n",
        "DEVICE = torch.device('cuda')  # 'cpu'\n",
        "MODEL_TYPE = \"vit_h\"\n",
        "CHECKPOINT_PATH = \"/content/sam_vit_h_4b8939.pth\"\n",
        "sam = sam_model_registry[MODEL_TYPE](checkpoint=CHECKPOINT_PATH).to(device=DEVICE)\n",
        "predictor = SamPredictor(sam)\n",
        "\n",
        "\n",
        "total_iou = 0\n",
        "total_samples = 0\n",
        "annot_dataset_dir = \"/content/11/16/2023-Zero-shot-OCT-3/test\"\n",
        "raw_oct_dataset_dir = \"/content/drive/Shareddrives/Yolab - Current Projects/Yonatan/Hist Images/\"\n",
        "real_histology_dir = raw_oct_dataset_dir\n",
        "# Get the list of image files\n",
        "image_files = [f for f in os.listdir(annot_dataset_dir) if f.endswith(\".jpg\")]\n",
        "\n",
        "total_iou = {EPIDERMIS:0}  # DERMIS:0 , # IOU for each class\n",
        "total_iou_oct = {EPIDERMIS:0}\n",
        "total_samples = 0\n",
        "path_to_annotations = os.path.join(annot_dataset_dir, \"_annotations.coco.json\")\n",
        "from pylabel import importer\n",
        "dataset = importer.ImportCoco(path_to_annotations, path_to_images=annot_dataset_dir, name=\"zero_shot_oct\")\n",
        "visualize = False\n",
        "segment_oct = True\n",
        "segment_real_hist = False"
      ],
      "metadata": {
        "colab": {
          "base_uri": "https://localhost:8080/"
        },
        "id": "2vPVox_OdUWw",
        "outputId": "58f7ecc3-c500-433c-c3c5-f4d6c4018db9"
      },
      "execution_count": null,
      "outputs": [
        {
          "output_type": "stream",
          "name": "stdout",
          "text": [
            "loading Roboflow workspace...\n",
            "loading Roboflow project...\n"
          ]
        }
      ]
    },
    {
      "cell_type": "code",
      "source": [],
      "metadata": {
        "id": "utZpMu1AqiCP"
      },
      "execution_count": null,
      "outputs": []
    },
    {
      "cell_type": "code",
      "source": [
        "image_files = image_files[:2]\n"
      ],
      "metadata": {
        "id": "mlufNSXTnO7R"
      },
      "execution_count": null,
      "outputs": []
    },
    {
      "cell_type": "code",
      "source": [
        "!git clone --recurse-submodules https://github.com/WinetraubLab/OCT2Hist-ModelInference\n",
        "!pip install -r ./OCT2Hist-ModelInference/pytorch-CycleGAN-and-pix2pix/requirements.txt"
      ],
      "metadata": {
        "id": "ZYOTBiairhWW"
      },
      "execution_count": null,
      "outputs": []
    },
    {
      "cell_type": "code",
      "source": [
        "sys.path.append('./zero_shot_segmentation')\n",
        "sys.path.append('./OCT2Hist-ModelInference')"
      ],
      "metadata": {
        "id": "A69KFTVlskYH"
      },
      "execution_count": null,
      "outputs": []
    },
    {
      "cell_type": "code",
      "source": [
        "from tqdm import tqdm\n",
        "import cv2\n",
        "from zero_shot_utils.predict_mask_on_oct_interactive import predict\n",
        "for image_file in tqdm(image_files):\n",
        "    gt_image_path = os.path.join(raw_oct_dataset_dir, image_file)\n",
        "    image_path = os.path.join(annot_dataset_dir, image_file)\n",
        "    oct_img = cv2.imread(image_path, cv2.IMREAD_GRAYSCALE)\n",
        "    coco_mask = dataset.df.ann_segmentation[dataset.df.img_filename == image_file].values[0][0]\n",
        "    mask_true = coco_mask_to_numpy(oct_img.shape, coco_mask)\n",
        "    if visualize:\n",
        "        plt.figure(figsize=(5, 5))\n",
        "        plt.imshow(oct_img, cmap = \"gray\")\n",
        "        show_mask(mask_true, plt.gca())\n",
        "        plt.axis('off')\n",
        "        plt.title(f\"Input oct and annotation: {image_file}\")\n",
        "        plt.show()\n",
        "\n",
        "    # Predict the mask using your model\n",
        "    mask, masked_gel_image, crop_args = predict(image_path, predictor, weights_path = CHECKPOINT_PATH)\n",
        "\n",
        "    if segment_oct:\n",
        "        oct_mask, _, crop_args = predict(image_path, predictor, weights_path=CHECKPOINT_PATH, vhist=False)\n",
        "\n",
        "    # if segment_real_hist:\n",
        "    #     image_path = os.path.join(real_histology_dir, image_file)\n",
        "    #     oct_mask, _, crop_args = predict(image_path, predictor, weights_path=CHECKPOINT_PATH, vhist=False)\n",
        "\n",
        "    if mask is None or mask.sum().sum()==0:\n",
        "        print(f\"Could not segment {image_path}.\")\n",
        "        continue\n",
        "    mask[mask==1] = True\n",
        "    mask[mask == 0] = False\n",
        "    #mask_pred = cv2.resize(mask_pred, (mask_true.shape[1], mask_true.shape[0]), interpolation =  cv2.INTER_NEAREST)\n",
        "    cropped_mask_gt = crop(mask_true, **crop_args)\n",
        "    cropped_oct_image = crop(oct_img, **crop_args)\n",
        "    from PIL import Image\n",
        "\n",
        "    if visualize:\n",
        "        plt.figure(figsize=(5, 5))\n",
        "        plt.imshow(cropped_oct_image, cmap = \"gray\")\n",
        "        show_mask(mask, plt.gca())\n",
        "        show_mask(cropped_mask_gt, plt.gca(), random_color=True)\n",
        "        plt.axis('off')\n",
        "        plt.title(f\"Cropped oct and segmentation: {image_file}\")\n",
        "        plt.show()\n",
        "\n",
        "    # Calculate IoU for each class\n",
        "    for class_id in [EPIDERMIS]: # DERMIS\n",
        "        epidermis_iou_vhist = calculate_iou(cropped_mask_gt, mask, class_id)\n",
        "        if segment_oct:\n",
        "            epidermis_iou_oct = calculate_iou(cropped_mask_gt, oct_mask, class_id)\n",
        "            total_iou_oct[class_id] += epidermis_iou_oct\n",
        "        total_iou[class_id] += epidermis_iou_vhist\n",
        "\n",
        "    total_samples += 1\n"
      ],
      "metadata": {
        "id": "g_6Dp5_leZsB"
      },
      "execution_count": null,
      "outputs": []
    },
    {
      "cell_type": "code",
      "source": [],
      "metadata": {
        "id": "7AtuIMc3skGP"
      },
      "execution_count": null,
      "outputs": []
    },
    {
      "cell_type": "code",
      "source": [
        "\n",
        "average_iou = total_iou[EPIDERMIS] / total_samples #sum all ious divided by (number of images * number of classes).\n",
        "print(f\"Average IoU with virtual histology: {average_iou}\")\n",
        "if segment_oct:\n",
        "    average_iou_oct = total_iou_oct[EPIDERMIS] / total_samples\n",
        "    print(f\"Average IoU without virtual histology: {average_iou_oct}\")"
      ],
      "metadata": {
        "id": "GukN39pLeay2"
      },
      "execution_count": null,
      "outputs": []
    },
    {
      "cell_type": "code",
      "source": [],
      "metadata": {
        "id": "rVzp13prYLGC"
      },
      "execution_count": null,
      "outputs": []
    },
    {
      "cell_type": "code",
      "source": [],
      "metadata": {
        "id": "KpOc9uoU27Ol"
      },
      "execution_count": null,
      "outputs": []
    },
    {
      "cell_type": "code",
      "source": [
        "sys.path.append('./zero_shot_segmentation')\n",
        "sys.path.append('./OCT2Hist-ModelInference')\n",
        "\n",
        "import oct2hist\n",
        "from utils.show_images import *\n",
        "# Set up the network environment\n",
        "oct2hist.setup_network()"
      ],
      "metadata": {
        "id": "ZI1JTVgfakkZ"
      },
      "execution_count": null,
      "outputs": []
    },
    {
      "cell_type": "code",
      "source": [
        "import cv2\n",
        "import matplotlib.pyplot as plt\n",
        "import numpy as np\n",
        "import oct2hist\n",
        "from utils.show_images import *\n",
        "from utils.crop import crop\n"
      ],
      "metadata": {
        "id": "XBw7pawsYD-f"
      },
      "execution_count": null,
      "outputs": []
    },
    {
      "cell_type": "code",
      "source": [
        "import random\n",
        "import os\n",
        "# List all files in the directory\n",
        "all_images = os.listdir(image_directory)\n",
        "\n",
        "# Filter out images without the suffix _realB\n",
        "filtered_images = [img for img in all_images if \"real_A\" in img]\n",
        "random.shuffle(filtered_images)\n",
        "filtered_images = filtered_images[:10]\n",
        "\n",
        "# Uncomment this part if you would like to try a single image rather than all.\n",
        "#filtered_images = [''] # for one good example: ['LG-37-Slide06_Section02_yp0_patch01_real_A.png']"
      ],
      "metadata": {
        "id": "gT47QcMtUnS4"
      },
      "execution_count": null,
      "outputs": []
    },
    {
      "cell_type": "code",
      "source": [
        "# -*- coding: utf-8 -*-\n",
        "\"\"\"run_oct2hist.ipynb\n",
        "\n",
        "Automatically generated by Colaboratory.\n",
        "\n",
        "Original file is located at\n",
        "    https://colab.research.google.com/github/WinetraubLab/OCT2Hist-ModelInference/blob/main/run_oct2hist.ipynb\n",
        "\n",
        "# Overview\n",
        "Use this notebook to convert an OCT image to virtual histology.\n",
        "\n",
        "To get started,\n",
        "[open this notebook in colab](https://colab.research.google.com/github/WinetraubLab/OCT2Hist-ModelInference/blob/main/run_oct2hist.ipynb) and run.\n",
        "\"\"\"\n",
        "\n",
        "import random\n",
        "import sys\n",
        "from utils.show_images import showImg\n",
        "\n",
        "import torch\n",
        "from segment_anything import sam_model_registry, SamPredictor\n",
        "\n",
        "import oct2hist\n",
        "from utils.masking import get_sam_input_points, show_points, show_mask, mask_gel_and_low_signal\n",
        "\n",
        "# from google.colab import drive\n",
        "\n",
        "import cv2\n",
        "import matplotlib.pyplot as plt\n",
        "\n",
        "import os\n",
        "\n",
        "for filename in filtered_images:\n",
        "    oct_input_image_path = os.path.join(image_directory, filename)\n",
        "    # Load OCT image\n",
        "    oct_image = cv2.imread(oct_input_image_path)\n",
        "    oct_image = cv2.cvtColor(oct_image, cv2.COLOR_BGR2RGB)\n",
        "    #is it sheered?\n",
        "    right_column = oct_image.shape[1]-1\n",
        "    if (oct_image[:,0,0] == 0).all() or (oct_image[:,right_column,0] == 0).all():\n",
        "        continue\n",
        "    # OCT image's pixel size\n",
        "    microns_per_pixel_z = 1\n",
        "    microns_per_pixel_x = 1\n",
        "\n",
        "    # no need to crop - the current folder contains pre cropped images.\n",
        "    # cropped = crop_oct(oct_image)\n",
        "\n",
        "    #workaround: for some reason the images look close to the target shape, but not exactly.\n",
        "    oct_image = cv2.resize(oct_image, [1024, 512], interpolation=cv2.INTER_AREA)\n",
        "\n",
        "    #for good input points, we need the gel masked out.\n",
        "    masked_gel_image = mask_gel_and_low_signal(oct_image)\n",
        "\n",
        "    # run vh&e\n",
        "    virtual_histology_image, _, o2h_input = oct2hist.run_network(oct_image,\n",
        "                                                                                             microns_per_pixel_x=microns_per_pixel_x,\n",
        "                                                                                             microns_per_pixel_z=microns_per_pixel_z)\n",
        "    # mask\n",
        "    input_point, input_label = get_sam_input_points(masked_gel_image, virtual_histology_image)\n",
        "\n",
        "    predictor.set_image(virtual_histology_image)\n",
        "    masks, scores, logits = predictor.predict(point_coords=input_point, point_labels=input_label,\n",
        "                                              multimask_output=False, )\n",
        "\n",
        "    for i, (mask, score) in enumerate(zip(masks, scores)):\n",
        "        plt.figure(figsize=(5, 5))\n",
        "        plt.imshow(virtual_histology_image)\n",
        "        show_mask(mask, plt.gca())\n",
        "        show_points(input_point, input_label, plt.gca())\n",
        "        plt.title(f\"Mask {i + 1}, Score: {score:.3f}\", fontsize=18)\n",
        "        plt.axis('off')\n",
        "        plt.show()\n",
        "    print(f\"Image {filename} ready.\")\n"
      ],
      "metadata": {
        "id": "BOTPQ0McWWE0"
      },
      "execution_count": null,
      "outputs": []
    },
    {
      "cell_type": "code",
      "source": [],
      "metadata": {
        "id": "L-AUthzH65lL"
      },
      "execution_count": null,
      "outputs": []
    }
  ]
}